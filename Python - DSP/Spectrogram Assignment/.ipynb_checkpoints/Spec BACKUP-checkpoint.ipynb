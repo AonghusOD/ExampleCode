{
 "cells": [
  {
   "cell_type": "markdown",
   "id": "d9893577",
   "metadata": {},
   "source": [
    "First we import libraries Numpy and Scipy. NumPy and SciPy are mostly written in C and wrapped in Python for ease of use. Numpy performs basic operations such as sorting and indexing. SciPy performs more complex operations such as various numerical algorithms and algebraic functions. SciPy is used in the program to read in a wavfile."
   ]
  },
  {
   "cell_type": "code",
   "execution_count": 5,
   "id": "8be6b4d1",
   "metadata": {},
   "outputs": [],
   "source": [
    "import numpy as np\n",
    "import matplotlib.pyplot as plt\n",
    "from scipy import signal\n",
    "from scipy.io import wavfile\n"
   ]
  },
  {
   "cell_type": "markdown",
   "id": "f10aab45",
   "metadata": {},
   "source": [
    "numpy.seterr Turns off \"RuntimeWarning: divide by zero\" due to some elements in the spec_db_sp array ending up being zero."
   ]
  },
  {
   "cell_type": "code",
   "execution_count": 6,
   "id": "e27c2cf6",
   "metadata": {
    "scrolled": true
   },
   "outputs": [
    {
     "data": {
      "text/plain": [
       "{'divide': 'ignore', 'over': 'warn', 'under': 'ignore', 'invalid': 'warn'}"
      ]
     },
     "execution_count": 6,
     "metadata": {},
     "output_type": "execute_result"
    }
   ],
   "source": [
    "np.seterr(divide = 'ignore')"
   ]
  },
  {
   "cell_type": "markdown",
   "id": "531043a3",
   "metadata": {},
   "source": [
    "wavfile.read Reads in wav file to a numpy array of data type integer. [1]"
   ]
  },
  {
   "cell_type": "code",
   "execution_count": 7,
   "id": "f75f43e3",
   "metadata": {},
   "outputs": [],
   "source": [
    "rate, audio = wavfile.read('LyreBird3.wav')"
   ]
  },
  {
   "cell_type": "markdown",
   "id": "c3bf1eea",
   "metadata": {},
   "source": [
    "np.mean Returns average of the array elements. Returns new array with optional data type and defaults to float.[2] N is total number of samples and L which is number of samples divided by sample rate, output to screen in seconds. "
   ]
  },
  {
   "cell_type": "code",
   "execution_count": 8,
   "id": "c13ff71d",
   "metadata": {},
   "outputs": [
    {
     "name": "stdout",
     "output_type": "stream",
     "text": [
      "Audio length: 117.82 seconds\n"
     ]
    }
   ],
   "source": [
    "audio = np.mean(audio, axis=1)\n",
    "\n",
    "N = audio.shape[0]              \n",
    "L = N / rate                  \n",
    "print(f'Audio length: {L:.2f} seconds')"
   ]
  },
  {
   "cell_type": "markdown",
   "id": "2ec85eae",
   "metadata": {},
   "source": [
    "signal.spectrogram Computes a spectrogram, returns the short-time Fourier transform of the input signal. [3]"
   ]
  },
  {
   "cell_type": "code",
   "execution_count": 9,
   "id": "e6c0ffab",
   "metadata": {},
   "outputs": [],
   "source": [
    "freqs_sp, times_sp, spec_sp = signal.spectrogram(audio, fs=rate, window='hanning',\n",
    "                                                 nperseg=1024, noverlap=1024-100,\n",
    "                                                 detrend=False, scaling='spectrum')"
   ]
  },
  {
   "cell_type": "markdown",
   "id": "bce8a454",
   "metadata": {},
   "source": [
    "spec_db_sp Calculates the magnitude of the spectrum in decibels. Inputs an array of values and returns an array of log to base10 of each element."
   ]
  },
  {
   "cell_type": "code",
   "execution_count": 10,
   "id": "4ed34c7b",
   "metadata": {},
   "outputs": [],
   "source": [
    "spec_db_sp = 10*np.log10(spec_sp)"
   ]
  },
  {
   "cell_type": "markdown",
   "id": "21b39548",
   "metadata": {},
   "source": [
    "The pcolormesh() function in pyplot module of matplotlib library is used to create a pseudocolor plot with a non-regular rectangular grid. [4] We then plot the spectrogram with frequency on y axis and time on x axis."
   ]
  },
  {
   "cell_type": "code",
   "execution_count": null,
   "id": "ca9abd84",
   "metadata": {
    "scrolled": false
   },
   "outputs": [],
   "source": [
    "fig, ax = plt.subplots(figsize=(9,7))\n",
    "im = ax.pcolormesh(times_sp, freqs_sp/100, spec_db_sp, vmax=spec_db_sp.max(), vmin=20, cmap=plt.cm.winter, linewidth=10,shading='auto')\n",
    "\n",
    "cb = fig.colorbar(im, ax=ax, orientation=\"horizontal\")\n",
    "ax.set_ylabel('Frequency (kHz)', fontsize=26, labelpad=10)\n",
    "ax.set_xlabel('Time (s)', fontsize=26, labelpad=10);\n",
    "ax.set_title('Birdsong Spectrogram', fontsize=26, pad=10, color='sienna');\n",
    "ax.set_title('Birdsong', fontsize=26, pad=10, color='sienna');\n",
    "ax.set_ylim(0, 25)\n",
    "ax.tick_params(axis='both', which='both', labelsize=22, length=0)\n",
    "cb.set_label('Power (dB)', fontsize=26, labelpad=10)\n",
    "cb.ax.tick_params(labelsize=22)"
   ]
  },
  {
   "cell_type": "markdown",
   "id": "a0d39110",
   "metadata": {},
   "source": [
    "<h1>DFT - Discrete Fourier Transform</h1>\n",
    "\n",
    "DFT allows us to switch to the frequency domain from the time domain. \n",
    "\n",
    "The Discrete Fourier Transform (DFT) is a mathematical technique used to convert time or spatial domain data into frequency domain data. Discrete means the original data and the frequency bins are discrete.[5]\n",
    "\n",
    "\n",
    "${X}[k] = \\sum \\limits _{n=0} ^{N-1} {x}[n]{e}^{{-j}\\frac{2\\pi}{N}{k}{n}}$\n",
    "\n",
    "\n",
    "<div>\n",
    "<img src=\"DFT.png\" width=\"600\"/>\n",
    "</div>\n"
   ]
  },
  {
   "cell_type": "markdown",
   "id": "8a664710",
   "metadata": {},
   "source": [
    "<h1>STFT - Short Time Fourier</h1>\n",
    "\n",
    "By splitting the signal into shorter segments, we can focus on signal properties at a particular point in time. Slide an overlapping window over the signal, computing the DFT for each segment we obtain the STFT of the signal. "
   ]
  },
  {
   "cell_type": "markdown",
   "id": "aee6e363",
   "metadata": {},
   "source": [
    "Prewitt filter was used to enhance the edges in the vertical direction. We do this by adding a kernel in front of the image."
   ]
  },
  {
   "cell_type": "code",
   "execution_count": null,
   "id": "77c60b86",
   "metadata": {},
   "outputs": [],
   "source": [
    "import cv2 as cv\n",
    "\n",
    "\n",
    "image = cv.imread('birdsong.png', cv.IMREAD_COLOR)\n",
    "kernel = np.array([[1, 0 , -1],\n",
    "                    [1, 0 , -1],\n",
    "                    [1, 0 ,-1]])\n",
    "image_gray = cv.cvtColor(image, cv.COLOR_BGR2XYZ)\n",
    "image_lines = cv.filter2D(image_gray, -5, kernel)\n",
    "stack = np.hstack((image_gray, image_lines))\n",
    "cv.imshow('Prewitt Operator, Vertical', stack)\n",
    "cv.waitKey(0)\n"
   ]
  },
  {
   "cell_type": "markdown",
   "id": "1b8feaf2",
   "metadata": {},
   "source": [
    "[1] wavfile.read https://docs.scipy.org/doc/scipy/reference/generated/scipy.io.wavfile.read.html\n",
    "\n",
    "[2] np.mean https://numpy.org/doc/stable/reference/generated/numpy.mean.html\n",
    "\n",
    "[3] signal.spectrogram https://docs.scipy.org/doc/scipy/reference/signal.html#spectral-analysis\n",
    "\n",
    "[4] pcolormesh function https://www.geeksforgeeks.org/matplotlib-pyplot-pcolormesh-in-python/\n",
    "\n",
    "[5] DFT slides pg 2\n",
    "\n",
    "\n",
    "\n"
   ]
  }
 ],
 "metadata": {
  "kernelspec": {
   "display_name": "Python 3 (ipykernel)",
   "language": "python",
   "name": "python3"
  },
  "language_info": {
   "codemirror_mode": {
    "name": "ipython",
    "version": 3
   },
   "file_extension": ".py",
   "mimetype": "text/x-python",
   "name": "python",
   "nbconvert_exporter": "python",
   "pygments_lexer": "ipython3",
   "version": "3.9.7"
  }
 },
 "nbformat": 4,
 "nbformat_minor": 5
}
